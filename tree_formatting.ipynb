{
  "nbformat": 4,
  "nbformat_minor": 0,
  "metadata": {
    "colab": {
      "name": "tree_formatting.ipynb",
      "version": "0.3.2",
      "provenance": [],
      "collapsed_sections": [],
      "include_colab_link": true
    },
    "kernelspec": {
      "name": "python3",
      "display_name": "Python 3"
    }
  },
  "cells": [
    {
      "cell_type": "markdown",
      "metadata": {
        "id": "view-in-github",
        "colab_type": "text"
      },
      "source": [
        "<a href=\"https://colab.research.google.com/github/pbeerli/isc5317/blob/master/tree_formatting.ipynb\" target=\"_parent\"><img src=\"https://colab.research.google.com/assets/colab-badge.svg\" alt=\"Open In Colab\"/></a>"
      ]
    },
    {
      "cell_type": "code",
      "metadata": {
        "id": "cIchiBdSt5a1",
        "colab_type": "code",
        "colab": {
          "base_uri": "https://localhost:8080/",
          "height": 34
        },
        "outputId": "d7949d56-cc50-4d0f-9eda-b6f528f16510"
      },
      "source": [
        ""
      ],
      "execution_count": 1,
      "outputs": [
        {
          "output_type": "execute_result",
          "data": {
            "text/plain": [
              "2"
            ]
          },
          "metadata": {
            "tags": []
          },
          "execution_count": 1
        }
      ]
    },
    {
      "cell_type": "markdown",
      "metadata": {
        "id": "FrmqspwnuPIV",
        "colab_type": "text"
      },
      "source": [
        "This notebook contains code on tree traversal and storage"
      ]
    },
    {
      "cell_type": "code",
      "metadata": {
        "id": "IlBi6h58t80g",
        "colab_type": "code",
        "colab": {}
      },
      "source": [
        "class Node:\n",
        "  def __init__(self):\n",
        "    self.left = None\n",
        "    self.right = None\n",
        "    self.ancestor = None\n",
        "    self.name=\"\"\n",
        "    self.blen=None\n",
        "    "
      ],
      "execution_count": 0,
      "outputs": []
    },
    {
      "cell_type": "code",
      "metadata": {
        "id": "SjiWy-2qwrUw",
        "colab_type": "code",
        "colab": {}
      },
      "source": [
        "def settip(anode,name,ancestor):\n",
        "  anode.name = name\n",
        "  anode.ancestor = ancestor"
      ],
      "execution_count": 0,
      "outputs": []
    },
    {
      "cell_type": "code",
      "metadata": {
        "id": "3LvVXlLbu51q",
        "colab_type": "code",
        "colab": {}
      },
      "source": [
        "def setinterior(anode,name,left,right,ancestor):\n",
        "  anode.left = left\n",
        "  anode.right = right\n",
        "  anode.ancestor = ancestor\n",
        "  anode.name = name"
      ],
      "execution_count": 0,
      "outputs": []
    },
    {
      "cell_type": "code",
      "metadata": {
        "id": "xX6NGL7fvJyz",
        "colab_type": "code",
        "colab": {}
      },
      "source": [
        "a=Node()\n",
        "b=Node()\n",
        "c=Node()\n",
        "e=Node()\n",
        "d=Node()"
      ],
      "execution_count": 0,
      "outputs": []
    },
    {
      "cell_type": "code",
      "metadata": {
        "id": "jGEdbXpSvP4j",
        "colab_type": "code",
        "colab": {}
      },
      "source": [
        "settip(a,'Opossum',d)\n",
        "settip(b,'Platypus',d)\n",
        "settip(c,'Casuary',e)"
      ],
      "execution_count": 0,
      "outputs": []
    },
    {
      "cell_type": "code",
      "metadata": {
        "id": "KFxp0Vnxv33F",
        "colab_type": "code",
        "colab": {}
      },
      "source": [
        "setinterior(d,\"marsupial\",a,b, e)\n"
      ],
      "execution_count": 0,
      "outputs": []
    },
    {
      "cell_type": "code",
      "metadata": {
        "id": "dlzp50_cvYL7",
        "colab_type": "code",
        "colab": {}
      },
      "source": [
        "setinterior(e,'root',c,d,None)"
      ],
      "execution_count": 0,
      "outputs": []
    },
    {
      "cell_type": "code",
      "metadata": {
        "id": "gt-fhDr6wQ4s",
        "colab_type": "code",
        "colab": {}
      },
      "source": [
        ""
      ],
      "execution_count": 0,
      "outputs": []
    },
    {
      "cell_type": "code",
      "metadata": {
        "id": "BRUpK10Ewhnn",
        "colab_type": "code",
        "colab": {}
      },
      "source": [
        ""
      ],
      "execution_count": 0,
      "outputs": []
    }
  ]
}